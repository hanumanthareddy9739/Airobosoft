{
  "cells": [
    {
      "cell_type": "markdown",
      "metadata": {
        "id": "241pybr5rVt9"
      },
      "source": [
        "# Modules and Packages"
      ]
    },
    {
      "cell_type": "markdown",
      "metadata": {
        "id": "oqmBDAnRrVuC"
      },
      "source": [
        "Modules in Python are simply Python files with the .py extension, which implement a set of functions. Modules are imported from other modules using the import command. Before you go ahead and import modules, check out the full list of built-in modules in the Python Standard library.\n",
        "\n",
        "When a module is loaded into a running script for the first time, it is initialized by executing the code in the module once. If another module in your code imports the same module again, it will not be loaded twice but once only - so local variables inside the module act as a \"singleton\" - they are initialized only once.\n",
        "\n",
        "If we want to import module math,  we simply import the module:"
      ]
    },
    {
      "cell_type": "code",
      "execution_count": null,
      "metadata": {
        "id": "51q1cqDFrVuD"
      },
      "outputs": [],
      "source": [
        "# import the library\n",
        "import math\n"
      ]
    },
    {
      "cell_type": "code",
      "execution_count": null,
      "metadata": {
        "id": "2_lZGBYrrVuE",
        "outputId": "26c86d04-6242-46a0-f287-fc9c5bbd1ec7",
        "colab": {
          "base_uri": "https://localhost:8080/"
        }
      },
      "outputs": [
        {
          "output_type": "execute_result",
          "data": {
            "text/plain": [
              "3"
            ]
          },
          "metadata": {},
          "execution_count": 3
        }
      ],
      "source": [
        "# use it (ceiling rounding)\n",
        "math.ceil(2.4)"
      ]
    },
    {
      "cell_type": "markdown",
      "metadata": {
        "id": "7cv8SVCFrVuE"
      },
      "source": [
        "## Exploring built-in modules\n",
        "\n",
        "While exploring modules in Python, two important functions come in handy - the dir and help functions. dir functions show which functions are implemented in each module. Let us see the below example and understand better."
      ]
    },
    {
      "cell_type": "code",
      "execution_count": null,
      "metadata": {
        "id": "qCYiH_hrrVuF",
        "outputId": "559ea08d-d731-453b-b794-12b1e38b9800",
        "colab": {
          "base_uri": "https://localhost:8080/"
        }
      },
      "outputs": [
        {
          "output_type": "stream",
          "name": "stdout",
          "text": [
            "['__doc__', '__loader__', '__name__', '__package__', '__spec__', 'acos', 'acosh', 'asin', 'asinh', 'atan', 'atan2', 'atanh', 'ceil', 'copysign', 'cos', 'cosh', 'degrees', 'e', 'erf', 'erfc', 'exp', 'expm1', 'fabs', 'factorial', 'floor', 'fmod', 'frexp', 'fsum', 'gamma', 'gcd', 'hypot', 'inf', 'isclose', 'isfinite', 'isinf', 'isnan', 'ldexp', 'lgamma', 'log', 'log10', 'log1p', 'log2', 'modf', 'nan', 'pi', 'pow', 'radians', 'remainder', 'sin', 'sinh', 'sqrt', 'tan', 'tanh', 'tau', 'trunc']\n"
          ]
        }
      ],
      "source": [
        "print(dir(math))"
      ]
    },
    {
      "cell_type": "markdown",
      "metadata": {
        "id": "pEBbKpZDrVuF"
      },
      "source": [
        "When we find the function in the module we want to use, we can read about it more using the help function, inside the Python interpreter:"
      ]
    },
    {
      "cell_type": "code",
      "execution_count": null,
      "metadata": {
        "id": "DRuVrAdUrVuG",
        "outputId": "f570c367-885f-4f9d-e384-5be6d113b33d",
        "colab": {
          "base_uri": "https://localhost:8080/"
        }
      },
      "outputs": [
        {
          "output_type": "stream",
          "name": "stdout",
          "text": [
            "Help on built-in function ceil in module math:\n",
            "\n",
            "ceil(x, /)\n",
            "    Return the ceiling of x as an Integral.\n",
            "    \n",
            "    This is the smallest integer >= x.\n",
            "\n"
          ]
        }
      ],
      "source": [
        "help(math.ceil)"
      ]
    },
    {
      "cell_type": "markdown",
      "metadata": {
        "id": "mNtqcUDgrVuG"
      },
      "source": [
        "## Writing modules\n",
        "Writing Python modules is very simple. To create a module of your own, simply create a new .py file with the module name, and then import it using the Python file name (without the .py extension) using the import command.\n",
        "\n",
        "## Writing packages\n",
        "Packages are name-spaces which contain multiple packages and modules themselves. They are simply directories, but with a twist.\n",
        "\n",
        "The twist is, each package in Python is a directory which MUST contain a special file called **\\__init\\__.py**. This file can be empty, and it indicates that the directory it contains is a Python package, so it can be imported the same way a module can be imported.\n",
        "\n",
        "If we create a directory called foo, which marks the package name, we can then create a module inside that package called bar. We also must not forget to add the **\\__init\\__.py** file inside the foo directory.\n",
        "\n",
        "To use the module bar, we can import it in two ways:"
      ]
    },
    {
      "cell_type": "code",
      "execution_count": null,
      "metadata": {
        "id": "MSrucGXhrVuK"
      },
      "outputs": [],
      "source": [
        "# Just an example, this won't work\n",
        "import foo.bar"
      ]
    },
    {
      "cell_type": "code",
      "execution_count": null,
      "metadata": {
        "id": "gOro2MtZrVuK"
      },
      "outputs": [],
      "source": [
        "# OR could do it this way\n",
        "from foo import bar"
      ]
    },
    {
      "cell_type": "markdown",
      "metadata": {
        "id": "AtC4p7XIrVuL"
      },
      "source": [
        "In the first method, we must use the foo prefix whenever we access the module bar. In the second method, we don't, because we import the module to our module's name-space.\n",
        "\n",
        "The **\\__init\\__.py** file can also decide which modules the package exports as the API, while keeping other modules internal, by overriding the **\\__all\\__** variable, like so:"
      ]
    },
    {
      "cell_type": "code",
      "execution_count": null,
      "metadata": {
        "id": "uMKyCQvZrVuL"
      },
      "outputs": [],
      "source": [
        "__init__.py\n",
        "__all__=[bar]"
      ]
    },
    {
      "cell_type": "markdown",
      "metadata": {
        "id": "sDQCUNwBrVuM"
      },
      "source": [
        "# Errors and Exception Handling\n",
        "\n",
        "In this section, we will learn about Errors and Exception Handling in Python. You've might have definitely encountered errors by this point in the course. For example:"
      ]
    },
    {
      "cell_type": "code",
      "execution_count": null,
      "metadata": {
        "id": "paA37odarVuM",
        "outputId": "a0c8b9a0-3850-4073-ad75-a43727ecc9c6",
        "colab": {
          "base_uri": "https://localhost:8080/",
          "height": 130
        }
      },
      "outputs": [
        {
          "output_type": "error",
          "ename": "SyntaxError",
          "evalue": "ignored",
          "traceback": [
            "\u001b[0;36m  File \u001b[0;32m\"<ipython-input-8-126035ba983d>\"\u001b[0;36m, line \u001b[0;32m1\u001b[0m\n\u001b[0;31m    print('hello)\u001b[0m\n\u001b[0m                 ^\u001b[0m\n\u001b[0;31mSyntaxError\u001b[0m\u001b[0;31m:\u001b[0m EOL while scanning string literal\n"
          ]
        }
      ],
      "source": [
        "print('hello)"
      ]
    },
    {
      "cell_type": "markdown",
      "metadata": {
        "id": "xv7ZizvgrVuM"
      },
      "source": [
        "Note how we get a SyntaxError, with the further description that it was an End of Line Error (EOL) while scanning the string literal. This is specific enough for us to see that we forgot a single quote at the end of the line. Understanding of these various error types will help you debug your code much faster. \n",
        "\n",
        "This type of error and description is known as an Exception. Even if a statement or expression is syntactically correct, it may cause an error when an attempt is made to execute it. Errors detected during execution are called exceptions and are not unconditionally fatal.\n",
        "\n",
        "You can check out the full list of built-in exceptions [here](https://docs.python.org/2/library/exceptions.html). Now, let's learn how to handle errors and exceptions in our own code."
      ]
    },
    {
      "cell_type": "markdown",
      "metadata": {
        "id": "JfB8YhfRrVuN"
      },
      "source": [
        "## try and except\n",
        "\n",
        "The basic terminology and syntax used to handle errors in Python is the **try** and **except** statements. The code which can cause an exception to occur is put in the *try* block and the handling of the exception are the implemented in the *except* block of code. The syntax form is:\n",
        "\n",
        "    try:\n",
        "       You do your operations here...\n",
        "       ...\n",
        "    except ExceptionI:\n",
        "       If there is ExceptionI, then execute this block.\n",
        "    except ExceptionII:\n",
        "       If there is ExceptionII, then execute this block.\n",
        "       ...\n",
        "    else:\n",
        "       If there is no exception then execute this block. \n",
        "\n",
        "Using just except, we can check for any exception: To understand better let's check out a sample code that opens and writes a file:"
      ]
    },
    {
      "cell_type": "code",
      "execution_count": null,
      "metadata": {
        "id": "gdDMncv4rVuN",
        "outputId": "76f9fe5a-f60a-4d34-9ba4-2f92ba5e6fcb",
        "colab": {
          "base_uri": "https://localhost:8080/"
        }
      },
      "outputs": [
        {
          "output_type": "stream",
          "name": "stdout",
          "text": [
            "content written successfully\n"
          ]
        }
      ],
      "source": [
        "from os import write\n",
        "try:\n",
        "  f=open('testfile','w')\n",
        "  f.write('Test write this')\n",
        "except IOError:\n",
        "  print(\"Error: Could not find file or read data\")\n",
        "else:\n",
        "  print(\"content written successfully\")\n",
        "  f.close()"
      ]
    },
    {
      "cell_type": "markdown",
      "metadata": {
        "id": "SIwYaS7drVuO"
      },
      "source": [
        "Now, let's see what happens when we don't have write permission? (opening only with 'r'):"
      ]
    },
    {
      "cell_type": "code",
      "execution_count": null,
      "metadata": {
        "id": "ZiU6bHWqrVuO",
        "outputId": "f50b24b0-3737-4766-c5e6-a17359972a5d",
        "colab": {
          "base_uri": "https://localhost:8080/"
        }
      },
      "outputs": [
        {
          "output_type": "stream",
          "name": "stdout",
          "text": [
            "Error:Could not find file or read data\n"
          ]
        }
      ],
      "source": [
        "try:\n",
        "  f=open('testfile','r')\n",
        "  f.write('Test write this')\n",
        "except IOError:\n",
        "  print(\"Error:Could not find file or read data\")\n",
        "else:\n",
        "  print(\"Content written successfully\")\n",
        "  f.close()"
      ]
    },
    {
      "cell_type": "markdown",
      "metadata": {
        "id": "HIqrgM02rVuO"
      },
      "source": [
        "Notice, how we only printed a statement! The code still ran and we were able to continue doing actions and running code blocks. This is extremely useful when you have to account for possible input errors in your code. You can be prepared for the error and keep running code, instead of your code just breaking as we saw above.\n",
        "\n",
        "We could have also just said except: if we weren't sure what exception would occur. For example:"
      ]
    },
    {
      "cell_type": "code",
      "execution_count": null,
      "metadata": {
        "id": "U1VFHRiurVuO",
        "outputId": "da8b2f24-fa66-4e2b-86c8-b2710e882fe9",
        "colab": {
          "base_uri": "https://localhost:8080/"
        }
      },
      "outputs": [
        {
          "output_type": "stream",
          "name": "stdout",
          "text": [
            "Content written successfully\n"
          ]
        }
      ],
      "source": [
        "try:\n",
        "  f=open('testfile','w')\n",
        "  f.write('test write this')\n",
        "except:\n",
        "  print(\"Error:Could not find file or read data\")\n",
        "else:\n",
        "  print(\"Content written successfully\")\n",
        "  f.close()"
      ]
    },
    {
      "cell_type": "markdown",
      "metadata": {
        "id": "qvXJprjNrVuP"
      },
      "source": [
        "Now, we don't actually need to memorize the list of exception types! Now what if we keep wanting to run code after the exception occurred? This is where **finally** comes in.\n",
        "##finally\n",
        "The finally: Block of code will always be run regardless if there was an exception in the try code block. The syntax is:\n",
        "\n",
        "    try:\n",
        "       Code block here\n",
        "       ...\n",
        "       Due to any exception, this code may be skipped!\n",
        "    finally:\n",
        "       This code block would always be executed.\n",
        "\n",
        "For example:"
      ]
    },
    {
      "cell_type": "code",
      "execution_count": null,
      "metadata": {
        "id": "xapoBrUxrVuP",
        "outputId": "4ec9fd65-76cc-4787-c061-b69f949d303c",
        "colab": {
          "base_uri": "https://localhost:8080/"
        }
      },
      "outputs": [
        {
          "output_type": "stream",
          "name": "stdout",
          "text": [
            "Always execute finally code blocks\n"
          ]
        }
      ],
      "source": [
        "try:\n",
        "  f=open(\"testfile\",\"w\")\n",
        "  f.write(\"test write statement\")\n",
        "finally:\n",
        "  print(\"Always execute finally code blocks\")"
      ]
    },
    {
      "cell_type": "markdown",
      "metadata": {
        "id": "gDEU-u17rVuP"
      },
      "source": [
        "We can use this in conjunction with except. Let's see a new example that will take into account a user putting in the wrong input:"
      ]
    },
    {
      "cell_type": "code",
      "execution_count": null,
      "metadata": {
        "id": "aYDHdVj9rVuP"
      },
      "outputs": [],
      "source": [
        "def askint():\n",
        "  try:\n",
        "    val=int(input(\"plese enter an integer:\"))\n",
        "  except:\n",
        "    print(\"Looks like you did not enter an integer\")\n",
        "  finally:\n",
        "    print(\"Finally,I executed\")\n",
        "  print(val)"
      ]
    },
    {
      "cell_type": "code",
      "execution_count": null,
      "metadata": {
        "id": "qnLsLv1wrVuP",
        "outputId": "bb747a3a-d172-4cbc-dace-612227dedfd7",
        "colab": {
          "base_uri": "https://localhost:8080/"
        }
      },
      "outputs": [
        {
          "output_type": "execute_result",
          "data": {
            "text/plain": [
              "<function __main__.askint>"
            ]
          },
          "metadata": {},
          "execution_count": 14
        }
      ],
      "source": [
        "askint"
      ]
    },
    {
      "cell_type": "code",
      "execution_count": null,
      "metadata": {
        "id": "qC-RDsQGrVuP",
        "outputId": "f3c0dd4d-7347-4177-d684-e9a4016299cd",
        "colab": {
          "base_uri": "https://localhost:8080/"
        }
      },
      "outputs": [
        {
          "output_type": "stream",
          "name": "stdout",
          "text": [
            "plese enter an integer:123\n",
            "Finally,I executed\n",
            "123\n"
          ]
        }
      ],
      "source": [
        "askint()"
      ]
    },
    {
      "cell_type": "markdown",
      "metadata": {
        "id": "sr7P5RZbrVuQ"
      },
      "source": [
        "Check how we got an error when trying to print val (because it was properly assigned). Let's find the right solution by asking the user and checking to make sure the input type is an integer:"
      ]
    },
    {
      "cell_type": "code",
      "execution_count": null,
      "metadata": {
        "id": "-s1fApP0rVuQ"
      },
      "outputs": [],
      "source": [
        "def askint():\n",
        "  try:\n",
        "    val=int(input(\"plese enter an integer:\"))\n",
        "  except:\n",
        "    print(\"Looks like you did not enter an integer\")\n",
        "    val=int(input(\"Try again-plese enter an ineger:\"))\n",
        "  finally:\n",
        "    print(\"Finally,I executed\")\n",
        "  print(val)"
      ]
    },
    {
      "cell_type": "code",
      "execution_count": null,
      "metadata": {
        "id": "MVhr3APirVuQ",
        "outputId": "5aac4453-8188-42a2-e81c-7eee17306978",
        "colab": {
          "base_uri": "https://localhost:8080/"
        }
      },
      "outputs": [
        {
          "output_type": "stream",
          "name": "stdout",
          "text": [
            "plese enter an integer:str\n",
            "Looks like you did not enter an integer\n",
            "Try again-plese enter an ineger:123\n",
            "Finally,I executed\n",
            "123\n"
          ]
        }
      ],
      "source": [
        "askint()"
      ]
    },
    {
      "cell_type": "markdown",
      "metadata": {
        "id": "0vIRa84-rVuQ"
      },
      "source": [
        "Hmmm...that only did one check. How can we continually keep checking? We can use a while loop!"
      ]
    },
    {
      "cell_type": "code",
      "execution_count": null,
      "metadata": {
        "id": "ftN_Za02rVuQ"
      },
      "outputs": [],
      "source": [
        "def askint():\n",
        "  while True:\n",
        "    try:\n",
        "      val=int(input(\"plese enter an integer:\"))\n",
        "    except:\n",
        "      print(\"Looks like you did not enter an integer\")\n",
        "      continue\n",
        "    else:\n",
        "      print('Yep thats an integer')\n",
        "      break\n",
        "    finally:\n",
        "      print(\"Finally,I executed\")\n",
        "    print(val)"
      ]
    },
    {
      "cell_type": "code",
      "execution_count": null,
      "metadata": {
        "scrolled": true,
        "id": "sT6n8NFGrVuR",
        "outputId": "88b377e9-96e9-4f5e-83b5-5a4c0af22ce7",
        "colab": {
          "base_uri": "https://localhost:8080/"
        }
      },
      "outputs": [
        {
          "output_type": "stream",
          "name": "stdout",
          "text": [
            "plese enter an integer:asd\n",
            "Looks like you did not enter an integer\n",
            "Finally,I executed\n",
            "plese enter an integer:str\n",
            "Looks like you did not enter an integer\n",
            "Finally,I executed\n",
            "plese enter an integer:wee\n",
            "Looks like you did not enter an integer\n",
            "Finally,I executed\n",
            "plese enter an integer:abc\n",
            "Looks like you did not enter an integer\n",
            "Finally,I executed\n",
            "plese enter an integer:123\n",
            "Yep thats an integer\n",
            "Finally,I executed\n"
          ]
        }
      ],
      "source": [
        "askint()"
      ]
    },
    {
      "cell_type": "markdown",
      "metadata": {
        "id": "0LBgnbt6rVuR"
      },
      "source": [
        "## Database connectivity and operations using Python.\n",
        "\n",
        "For Example, the following is the example of connecting with MySQL database \"my_database1\" and creating table grades1 and inserting values inside it."
      ]
    },
    {
      "cell_type": "code",
      "execution_count": null,
      "metadata": {
        "id": "MEKWtae_rVuR",
        "outputId": "d209ea24-01f0-42e7-d303-d1ca3092961a",
        "colab": {
          "base_uri": "https://localhost:8080/"
        }
      },
      "outputs": [
        {
          "output_type": "execute_result",
          "data": {
            "text/plain": [
              "<sqlite3.Cursor at 0x7f9728818960>"
            ]
          },
          "metadata": {},
          "execution_count": 7
        }
      ],
      "source": [
        "#!/usr/bin/python\n",
        "import sqlite3\n",
        "#connecting with the database.\n",
        "db =sqlite3.connect(\"my_database1.db\")\n",
        "# Drop table if it already exist using execute() method.\n",
        "db.execute(\"drop table if exists grades1\")\n",
        "# Create table as per requirement\n",
        "db.execute(\"create table grades1(id int,name text,score int)\")\n",
        "#inserting values inside the created table\n",
        "db.execute(\"insert into grades1(id, name, score) values(101,'John',99)\")\n",
        "db.execute(\"insert into grades1(id,name,score) values(102,'reddy',90)\")\n",
        "db.execute(\"insert into grades1(id,name,score) values(103,'savrav',80)\")\n",
        "db.execute(\"insert into grades1(id,name,score) values(104,'Catchy',85)\")\n",
        "db.execute(\"insert into grades1(id,name,score) values(105,'krish',95)\")\n",
        "\n"
      ]
    },
    {
      "cell_type": "code",
      "execution_count": null,
      "metadata": {
        "id": "URvtegJDrVuR"
      },
      "outputs": [],
      "source": [
        "db.commit()"
      ]
    },
    {
      "cell_type": "code",
      "execution_count": null,
      "metadata": {
        "id": "u70_8dssrVuR",
        "outputId": "e9daa0d6-e186-4ec8-edda-64ecac85a85c",
        "colab": {
          "base_uri": "https://localhost:8080/"
        }
      },
      "outputs": [
        {
          "output_type": "stream",
          "name": "stdout",
          "text": [
            "(101, 'John', 99)\n",
            "(102, 'reddy', 90)\n",
            "(103, 'savrav', 80)\n",
            "(104, 'Catchy', 85)\n",
            "(105, 'krish', 95)\n",
            "------------------------------------------------------------\n"
          ]
        }
      ],
      "source": [
        "results=db.execute(\"select * from grades1 order by id\")\n",
        "for row in results:\n",
        "  print(row)\n",
        "print(\"-\"*60)"
      ]
    },
    {
      "cell_type": "code",
      "execution_count": null,
      "metadata": {
        "id": "DTWlsZxqrVuR",
        "outputId": "ee52e41e-a525-468b-9be1-53e4cdc6ff26",
        "colab": {
          "base_uri": "https://localhost:8080/"
        }
      },
      "outputs": [
        {
          "output_type": "stream",
          "name": "stdout",
          "text": [
            "(102, 'reddy', 90)\n",
            "------------------------------------------------------------\n"
          ]
        }
      ],
      "source": [
        "results=db.execute(\"select * from grades1 where name ='reddy'\")\n",
        "for row in results:\n",
        "  print(row)\n",
        "print(\"-\"*60)"
      ]
    },
    {
      "cell_type": "code",
      "execution_count": null,
      "metadata": {
        "id": "cAVIsAwbrVuR",
        "outputId": "c3e08ede-066a-49a2-9136-7d5a6741005d",
        "colab": {
          "base_uri": "https://localhost:8080/"
        }
      },
      "outputs": [
        {
          "output_type": "stream",
          "name": "stdout",
          "text": [
            "(101, 'John', 99)\n",
            "(102, 'reddy', 90)\n",
            "(105, 'krish', 95)\n",
            "------------------------------------------------------------\n"
          ]
        }
      ],
      "source": [
        "results=db.execute(\"select * from grades1 where score>=90\")\n",
        "for row in results:\n",
        "  print(row)\n",
        "print(\"-\"*60)"
      ]
    },
    {
      "cell_type": "code",
      "execution_count": null,
      "metadata": {
        "id": "-9mAdjBorVuS",
        "outputId": "d3b0fbe9-8bd3-4287-b5ab-8c91069d6b0c",
        "colab": {
          "base_uri": "https://localhost:8080/"
        }
      },
      "outputs": [
        {
          "output_type": "stream",
          "name": "stdout",
          "text": [
            "(101, 'John', 99)\n",
            "(105, 'krish', 95)\n",
            "(102, 'reddy', 90)\n",
            "(104, 'Catchy', 85)\n",
            "(103, 'savrav', 80)\n",
            "------------------------------------------------------------\n"
          ]
        }
      ],
      "source": [
        "results=db.execute(\"select * from grades1 order by score desc\")\n",
        "for row in results:\n",
        "  print(row)\n",
        "print(\"-\"*60)"
      ]
    },
    {
      "cell_type": "code",
      "execution_count": null,
      "metadata": {
        "id": "4n5xp_gUrVuS",
        "outputId": "f081c8e4-7211-40b8-d846-ac1fe0c52e54",
        "colab": {
          "base_uri": "https://localhost:8080/"
        }
      },
      "outputs": [
        {
          "output_type": "stream",
          "name": "stdout",
          "text": [
            "('savrav', 80)\n",
            "('Catchy', 85)\n",
            "('reddy', 90)\n",
            "('krish', 95)\n",
            "('John', 99)\n",
            "------------------------------------------------------------\n"
          ]
        }
      ],
      "source": [
        "results=db.execute(\"select name,score from grades1 order by score\")\n",
        "for row in results:\n",
        "  print(row)\n",
        "print(\"-\"*60)"
      ]
    },
    {
      "cell_type": "code",
      "execution_count": null,
      "metadata": {
        "id": "i7_mO7MVrVuS",
        "outputId": "18291bc8-f510-4e48-9e70-9438ed2bba60",
        "colab": {
          "base_uri": "https://localhost:8080/"
        }
      },
      "outputs": [
        {
          "output_type": "stream",
          "name": "stdout",
          "text": [
            "('savrav', 80)\n",
            "('Catchy', 85)\n",
            "('reddy', 90)\n",
            "('krish', 95)\n",
            "('John', 99)\n"
          ]
        }
      ],
      "source": [
        "results=db.execute(\"select name,score from grades1 order by score\")\n",
        "for row in results:\n",
        "  print(row)"
      ]
    },
    {
      "cell_type": "code",
      "execution_count": null,
      "metadata": {
        "id": "_XGK4PA3rVuS"
      },
      "outputs": [],
      "source": [
        ""
      ]
    }
  ],
  "metadata": {
    "kernelspec": {
      "display_name": "Python 3",
      "language": "python",
      "name": "python3"
    },
    "language_info": {
      "codemirror_mode": {
        "name": "ipython",
        "version": 3
      },
      "file_extension": ".py",
      "mimetype": "text/x-python",
      "name": "python",
      "nbconvert_exporter": "python",
      "pygments_lexer": "ipython3",
      "version": "3.7.3"
    },
    "colab": {
      "name": "Copy of Python Day 5.ipynb",
      "provenance": []
    }
  },
  "nbformat": 4,
  "nbformat_minor": 0
}